{
 "cells": [
  {
   "cell_type": "code",
   "execution_count": 5,
   "id": "2a82b364-f699-4d51-8cf5-7e92b9b98c61",
   "metadata": {},
   "outputs": [
    {
     "name": "stdout",
     "output_type": "stream",
     "text": [
      "peruangan ke- 0\n",
      "peruangan ke- 1\n",
      "peruangan ke- 2\n",
      "peruangan ke- 3\n",
      "peruangan ke- 4\n"
     ]
    }
   ],
   "source": [
    "pengulangan=5\n",
    "for i in range(pengulangan):\n",
    "    print(\"peruangan ke-\", i)"
   ]
  },
  {
   "cell_type": "code",
   "execution_count": 17,
   "id": "10ccd6e7-af66-49b0-bacc-2f0560ba86c0",
   "metadata": {},
   "outputs": [
    {
     "name": "stdin",
     "output_type": "stream",
     "text": [
      "Masukkan dari  1\n"
     ]
    },
    {
     "name": "stdout",
     "output_type": "stream",
     "text": [
      "x\n"
     ]
    },
    {
     "name": "stdin",
     "output_type": "stream",
     "text": [
      "Masukkan dari  2\n"
     ]
    },
    {
     "name": "stdout",
     "output_type": "stream",
     "text": [
      "x\n"
     ]
    },
    {
     "name": "stdin",
     "output_type": "stream",
     "text": [
      "Masukkan dari  3\n"
     ]
    },
    {
     "name": "stdout",
     "output_type": "stream",
     "text": [
      "x\n"
     ]
    },
    {
     "name": "stdin",
     "output_type": "stream",
     "text": [
      "Masukkan dari  4\n"
     ]
    },
    {
     "name": "stdout",
     "output_type": "stream",
     "text": [
      "x\n"
     ]
    },
    {
     "name": "stdin",
     "output_type": "stream",
     "text": [
      "Masukkan dari  5\n"
     ]
    },
    {
     "name": "stdout",
     "output_type": "stream",
     "text": [
      "x\n"
     ]
    }
   ],
   "source": [
    "n=5\n",
    "x=[]\n",
    "for i in range (n):\n",
    "    x.append(int(input(\"Masukkan dari \")))\n",
    "    print(\"x\")"
   ]
  },
  {
   "cell_type": "code",
   "execution_count": 19,
   "id": "e73bd3aa-2d59-41ba-8d5f-fc2cd1431c84",
   "metadata": {},
   "outputs": [
    {
     "name": "stdout",
     "output_type": "stream",
     "text": [
      "1\n",
      "2\n",
      "3\n",
      "4\n",
      "The for loop is over\n",
      "done!\n"
     ]
    }
   ],
   "source": [
    "for i in range(1,5):\n",
    "    print(i)\n",
    "else:\n",
    "    print(\"The for loop is over\")\n",
    "print(\"done!\")"
   ]
  },
  {
   "cell_type": "code",
   "execution_count": 21,
   "id": "83cafec5-5647-4494-9478-096d9b79dc38",
   "metadata": {},
   "outputs": [
    {
     "name": "stdout",
     "output_type": "stream",
     "text": [
      "1\n",
      "3\n",
      "5\n",
      "7\n",
      "9\n"
     ]
    }
   ],
   "source": [
    "for i in range(1,10,2):\n",
    "    print(i)"
   ]
  },
  {
   "cell_type": "code",
   "execution_count": 23,
   "id": "3e027678-4260-40b5-890c-60218b0ef93d",
   "metadata": {},
   "outputs": [
    {
     "name": "stdout",
     "output_type": "stream",
     "text": [
      "b\n",
      "a\n",
      "n\n",
      "a\n",
      "n\n",
      "a\n"
     ]
    }
   ],
   "source": [
    "for i in \"banana\":\n",
    "    print(i)"
   ]
  },
  {
   "cell_type": "code",
   "execution_count": 25,
   "id": "8ef26977-02a5-4877-be16-3d367f646de0",
   "metadata": {},
   "outputs": [
    {
     "name": "stdout",
     "output_type": "stream",
     "text": [
      "1\n",
      "3\n",
      "8\n",
      "10\n"
     ]
    }
   ],
   "source": [
    "data_list=[1,3,8,10]\n",
    "for i in data_list:\n",
    "    print(i)"
   ]
  },
  {
   "cell_type": "code",
   "execution_count": 29,
   "id": "68f02c53-4d9d-4e90-923c-bb9b4805c5ee",
   "metadata": {},
   "outputs": [
    {
     "name": "stdout",
     "output_type": "stream",
     "text": [
      "Manda\n",
      "Aghna\n",
      "Luluk\n",
      "Clairine\n",
      "Shindy\n"
     ]
    }
   ],
   "source": [
    "unggas=[\"Manda\", \"Aghna\", \"Luluk\", \"Clairine\", \"Shindy\"]\n",
    "for i in unggas:\n",
    "    print(i)"
   ]
  },
  {
   "cell_type": "code",
   "execution_count": 33,
   "id": "ce203e4b-a5ab-4058-b3c4-3b0e6e344d28",
   "metadata": {},
   "outputs": [
    {
     "name": "stdout",
     "output_type": "stream",
     "text": [
      "2\n",
      "4\n",
      "6\n",
      "8\n",
      "10\n",
      "12\n",
      "14\n",
      "16\n",
      "18\n",
      "20\n"
     ]
    }
   ],
   "source": [
    "for i in range(2,22,2):\n",
    "    print(i)"
   ]
  },
  {
   "cell_type": "code",
   "execution_count": 41,
   "id": "4fd8c457-c224-429c-8a98-7ccc12259f78",
   "metadata": {},
   "outputs": [
    {
     "name": "stdout",
     "output_type": "stream",
     "text": [
      "Hasil penjumlahan dari angka 1 hingga 10 adalah:  1\n",
      "Hasil penjumlahan dari angka 1 hingga 10 adalah:  3\n",
      "Hasil penjumlahan dari angka 1 hingga 10 adalah:  6\n",
      "Hasil penjumlahan dari angka 1 hingga 10 adalah:  10\n",
      "Hasil penjumlahan dari angka 1 hingga 10 adalah:  15\n",
      "Hasil penjumlahan dari angka 1 hingga 10 adalah:  21\n",
      "Hasil penjumlahan dari angka 1 hingga 10 adalah:  28\n",
      "Hasil penjumlahan dari angka 1 hingga 10 adalah:  36\n",
      "Hasil penjumlahan dari angka 1 hingga 10 adalah:  45\n",
      "Hasil penjumlahan dari angka 1 hingga 10 adalah:  55\n"
     ]
    }
   ],
   "source": [
    "jumlah = 0\n",
    "for i in range(1,11):\n",
    "    jumlah=jumlah+i\n",
    "    print(\"Hasil penjumlahan dari angka 1 hingga 10 adalah: \",jumlah)"
   ]
  },
  {
   "cell_type": "code",
   "execution_count": 49,
   "id": "83ad4b27-c256-442e-bbb9-c7b70ca91de3",
   "metadata": {},
   "outputs": [
    {
     "name": "stdin",
     "output_type": "stream",
     "text": [
      "Masukkan jumlah data:  3\n",
      "masukkan data:  4\n",
      "masukkan data:  5.5\n",
      "masukkan data:  4.3\n"
     ]
    },
    {
     "name": "stdout",
     "output_type": "stream",
     "text": [
      "data kamu adalah  [4.0, 5.5, 4.3]\n"
     ]
    }
   ],
   "source": [
    "n= int(input(\"Masukkan jumlah data: \"))\n",
    "list_data=[float(input(\"masukkan data: \")) for _ in range (n)]\n",
    "print(\"data kamu adalah \",list_data)"
   ]
  },
  {
   "cell_type": "code",
   "execution_count": 53,
   "id": "ce6c98d9-d879-4148-a127-bd7e27888a12",
   "metadata": {},
   "outputs": [
    {
     "name": "stdin",
     "output_type": "stream",
     "text": [
      "masukkan data: 3\n"
     ]
    },
    {
     "name": "stdout",
     "output_type": "stream",
     "text": [
      "data kamu adalah [3.0]\n"
     ]
    },
    {
     "name": "stdin",
     "output_type": "stream",
     "text": [
      "masukkan data: 5\n"
     ]
    },
    {
     "name": "stdout",
     "output_type": "stream",
     "text": [
      "data kamu adalah [3.0, 5.0]\n"
     ]
    },
    {
     "name": "stdin",
     "output_type": "stream",
     "text": [
      "masukkan data: 7\n"
     ]
    },
    {
     "name": "stdout",
     "output_type": "stream",
     "text": [
      "data kamu adalah [3.0, 5.0, 7.0]\n"
     ]
    },
    {
     "name": "stdin",
     "output_type": "stream",
     "text": [
      "masukkan data: 9\n"
     ]
    },
    {
     "name": "stdout",
     "output_type": "stream",
     "text": [
      "data kamu adalah [3.0, 5.0, 7.0, 9.0]\n"
     ]
    },
    {
     "name": "stdin",
     "output_type": "stream",
     "text": [
      "masukkan data: 2\n"
     ]
    },
    {
     "name": "stdout",
     "output_type": "stream",
     "text": [
      "data kamu adalah [3.0, 5.0, 7.0, 9.0, 2.0]\n"
     ]
    }
   ],
   "source": [
    "list_data=[]\n",
    "for i in range(5):\n",
    "    list_data.append(float(input(\"masukkan data:\")))\n",
    "    print(\"data kamu adalah\",list_data)"
   ]
  },
  {
   "cell_type": "code",
   "execution_count": 55,
   "id": "450d0d72-e59e-4c57-a279-605698678612",
   "metadata": {},
   "outputs": [
    {
     "name": "stdout",
     "output_type": "stream",
     "text": [
      "1 * 1 = 1\n",
      "\n",
      "Terima kasih!\n",
      "1 * 2 = 2\n",
      "\n",
      "Terima kasih!\n",
      "1 * 3 = 3\n",
      "\n",
      "Terima kasih!\n",
      "1 * 4 = 4\n",
      "\n",
      "Terima kasih!\n",
      "1 * 5 = 5\n",
      "\n",
      "Terima kasih!\n",
      "1 * 6 = 6\n",
      "\n",
      "Terima kasih!\n",
      "1 * 7 = 7\n",
      "\n",
      "Terima kasih!\n",
      "1 * 8 = 8\n",
      "\n",
      "Terima kasih!\n",
      "1 * 9 = 9\n",
      "\n",
      "Terima kasih!\n",
      "1 * 10 = 10\n",
      "\n",
      "Terima kasih!\n",
      "2 * 1 = 2\n",
      "\n",
      "Terima kasih!\n",
      "2 * 2 = 4\n",
      "\n",
      "Terima kasih!\n",
      "2 * 3 = 6\n",
      "\n",
      "Terima kasih!\n",
      "2 * 4 = 8\n",
      "\n",
      "Terima kasih!\n",
      "2 * 5 = 10\n",
      "\n",
      "Terima kasih!\n",
      "2 * 6 = 12\n",
      "\n",
      "Terima kasih!\n",
      "2 * 7 = 14\n",
      "\n",
      "Terima kasih!\n",
      "2 * 8 = 16\n",
      "\n",
      "Terima kasih!\n",
      "2 * 9 = 18\n",
      "\n",
      "Terima kasih!\n",
      "2 * 10 = 20\n",
      "\n",
      "Terima kasih!\n"
     ]
    }
   ],
   "source": [
    "for i in range(1,3):\n",
    "    for j in range(1,11):\n",
    "        print(i,\"*\",j,\"=\",i*j)\n",
    "        print()\n",
    "        print(\"Terima kasih!\") "
   ]
  },
  {
   "cell_type": "code",
   "execution_count": 92,
   "id": "7beebd68-6c53-47ac-9ca9-6735a7b2d426",
   "metadata": {},
   "outputs": [
    {
     "name": "stdin",
     "output_type": "stream",
     "text": [
      "masukkan jumlah baris:  8\n"
     ]
    },
    {
     "name": "stdout",
     "output_type": "stream",
     "text": [
      "*  \n",
      "* *  \n",
      "* * *  \n",
      "* * * *  \n",
      "* * * * *  \n",
      "* * * * * *  \n",
      "* * * * * * *  \n",
      "* * * * * * * *  \n"
     ]
    }
   ],
   "source": [
    "n=int(input(\"masukkan jumlah baris: \"))\n",
    "for i in range(n):\n",
    "    for j in range(i+1):\n",
    "        print(\"*\",end=\" \")\n",
    "    print(' ')"
   ]
  },
  {
   "cell_type": "code",
   "execution_count": 103,
   "id": "837b8329-3a11-405b-ad28-4dc1db685a27",
   "metadata": {},
   "outputs": [
    {
     "name": "stdin",
     "output_type": "stream",
     "text": [
      "masukkan jumlah baris:  8\n"
     ]
    },
    {
     "name": "stdout",
     "output_type": "stream",
     "text": [
      "1  \n",
      "1 2  \n",
      "1 2 3  \n",
      "1 2 3 4  \n",
      "1 2 3 4 5  \n",
      "1 2 3 4 5 6  \n",
      "1 2 3 4 5 6 7  \n",
      "1 2 3 4 5 6 7 8  \n"
     ]
    }
   ],
   "source": [
    "n=int(input(\"masukkan jumlah baris: \"))\n",
    "for i in range(n):\n",
    "    for j in range(i+1):\n",
    "        print(j+1,end=\" \")\n",
    "    print(' ')"
   ]
  },
  {
   "cell_type": "code",
   "execution_count": 107,
   "id": "72e32f15-3a40-4afc-abb9-4e66ace64dd8",
   "metadata": {},
   "outputs": [
    {
     "name": "stdin",
     "output_type": "stream",
     "text": [
      "ulangi lagi tidak? ya\n"
     ]
    },
    {
     "name": "stdout",
     "output_type": "stream",
     "text": [
      "total pengulangan:  1\n"
     ]
    },
    {
     "name": "stdin",
     "output_type": "stream",
     "text": [
      "ulangi lagi tidak? ya\n"
     ]
    },
    {
     "name": "stdout",
     "output_type": "stream",
     "text": [
      "total pengulangan:  2\n"
     ]
    },
    {
     "name": "stdin",
     "output_type": "stream",
     "text": [
      "ulangi lagi tidak? tidak\n"
     ]
    }
   ],
   "source": [
    "jawab='ya'\n",
    "hitung=0\n",
    "while (True):\n",
    "    hitung=hitung+1\n",
    "    jawab=input('ulangi lagi tidak?')\n",
    "    if jawab=='tidak':\n",
    "        break\n",
    "    print(\"total pengulangan: \",hitung)"
   ]
  },
  {
   "cell_type": "code",
   "execution_count": 115,
   "id": "92f88c19-56e6-416a-9f3c-ab99448a97d6",
   "metadata": {},
   "outputs": [
    {
     "name": "stdin",
     "output_type": "stream",
     "text": [
      "masukkan banyaknya bilangan:  7\n"
     ]
    },
    {
     "name": "stdout",
     "output_type": "stream",
     "text": [
      "0\n",
      "1\n",
      "1\n",
      "2\n",
      "3\n",
      "5\n",
      "8\n"
     ]
    }
   ],
   "source": [
    "banyak_bilangan=(int(input(\"masukkan banyaknya bilangan: \")))\n",
    "count=0\n",
    "b1=0\n",
    "b2=1\n",
    "\n",
    "while count<banyak_bilangan:\n",
    "    print(b1)\n",
    "    sum=b1+b2\n",
    "    b1=b2\n",
    "    b2=sum\n",
    "    count+=1"
   ]
  },
  {
   "cell_type": "code",
   "execution_count": null,
   "id": "5e63ae24-4940-4df9-91f6-a54716a83ec3",
   "metadata": {},
   "outputs": [],
   "source": []
  }
 ],
 "metadata": {
  "kernelspec": {
   "display_name": "Python 3 (ipykernel)",
   "language": "python",
   "name": "python3"
  },
  "language_info": {
   "codemirror_mode": {
    "name": "ipython",
    "version": 3
   },
   "file_extension": ".py",
   "mimetype": "text/x-python",
   "name": "python",
   "nbconvert_exporter": "python",
   "pygments_lexer": "ipython3",
   "version": "3.12.4"
  }
 },
 "nbformat": 4,
 "nbformat_minor": 5
}
