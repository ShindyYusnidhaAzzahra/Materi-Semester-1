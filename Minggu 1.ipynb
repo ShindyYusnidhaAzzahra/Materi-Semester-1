{
 "cells": [
  {
   "cell_type": "code",
   "execution_count": 5,
   "id": "d7309e6b-3a97-4ec2-8697-0e2725ac7def",
   "metadata": {},
   "outputs": [],
   "source": [
    "bilangan_bulat = 10\n",
    "bilangan_desimal = 3.14\n",
    "teks = \"Halo, dunia!\"\n",
    "teks_multibaris = '''Shindy dan Clairine'''\n",
    "boolean = True"
   ]
  },
  {
   "cell_type": "code",
   "execution_count": 7,
   "id": "af7bf63a-77d9-4d97-a7ba-58f6e9a4ba15",
   "metadata": {},
   "outputs": [
    {
     "name": "stdout",
     "output_type": "stream",
     "text": [
      "Nama: Shindy dan Umur: 18\n",
      "Nama: Shindy dan Umur: 18\n",
      "\n",
      "\n",
      "Shindy dan Clairine\n"
     ]
    }
   ],
   "source": [
    "nama = \"Shindy\"\n",
    "umur = 18\n",
    "\n",
    "print('Nama:', nama, 'dan Umur:', umur)\n",
    "print(f\"Nama: {nama} dan Umur: {umur}\")\n",
    "print('\\n')\n",
    "print(teks_multibaris)"
   ]
  },
  {
   "cell_type": "code",
   "execution_count": 9,
   "id": "46e514ec-e914-480b-aa3e-f90b2dc89f70",
   "metadata": {},
   "outputs": [
    {
     "name": "stdout",
     "output_type": "stream",
     "text": [
      "Nama saya Shindy dan Umur saya adalah 18 Tahun dan sedang Berkuliah, di Telkom University Surabaya\n"
     ]
    }
   ],
   "source": [
    "nama = \"Shindy\"\n",
    "a = 10; b = 8\n",
    "kesibukan, keterangan = 'Berkuliah','Telkom University Surabaya'\n",
    "print(f\"Nama saya {nama} dan Umur saya adalah {a+b} Tahun dan sedang {kesibukan}, di {keterangan}\")"
   ]
  },
  {
   "cell_type": "code",
   "execution_count": 1,
   "id": "4e1ca19c-ccd3-4cb2-980c-3cd63686c784",
   "metadata": {},
   "outputs": [
    {
     "data": {
      "text/plain": [
       "10.0"
      ]
     },
     "execution_count": 1,
     "metadata": {},
     "output_type": "execute_result"
    }
   ],
   "source": [
    "#import library math\n",
    "import math\n",
    "math.sqrt(100)"
   ]
  },
  {
   "cell_type": "code",
   "execution_count": null,
   "id": "0fed3aad-5f0c-49a8-b43e-6d9977c877de",
   "metadata": {},
   "outputs": [
    {
     "name": "stdin",
     "output_type": "stream",
     "text": [
      "masukkan nilai a:  10\n",
      "masukkan nilai b:  -1\n"
     ]
    }
   ],
   "source": [
    "#input\n",
    "a= int(input(\"masukkan nilai a: \"))\n",
    "b= int(input(\"masukkan nilai b: \"))\n",
    "c= int(input(\"masukkan nilai c: \"))\n",
    "\n",
    "#proses\n",
    "x1= (-b + math.sqrt(b**2-4*a*c))/(2*a)\n",
    "x2= (-b - math.sqrt(b**2-4*a*c))/(2*a)\n",
    "\n",
    "print(x1, x2)"
   ]
  },
  {
   "cell_type": "code",
   "execution_count": 1,
   "id": "6b77b006-24ed-44cd-b3f4-fe7842cdefa0",
   "metadata": {},
   "outputs": [
    {
     "name": "stdin",
     "output_type": "stream",
     "text": [
      "nilai a:  10\n",
      "nilai b:  15\n",
      "nilai c:  20\n"
     ]
    },
    {
     "name": "stdout",
     "output_type": "stream",
     "text": [
      "31.666666666666668\n"
     ]
    }
   ],
   "source": [
    "a= int(input(\"nilai a: \"))\n",
    "b= int(input(\"nilai b: \"))\n",
    "c= int(input(\"nilai c: \"))\n",
    "\n",
    "rata_rata = a+b+c/3\n",
    "print(rata_rata)"
   ]
  },
  {
   "cell_type": "code",
   "execution_count": 11,
   "id": "d7911a6e-2cd0-4105-9749-547341576b4c",
   "metadata": {},
   "outputs": [
    {
     "name": "stdin",
     "output_type": "stream",
     "text": [
      "nilai x adalah:  25\n"
     ]
    },
    {
     "name": "stdout",
     "output_type": "stream",
     "text": [
      "125050.6\n"
     ]
    }
   ],
   "source": [
    "x= int(input(\"nilai x adalah: \"))\n",
    "\n",
    "f = (2*x)**3 + 2*x + 15/x\n",
    "print(f)"
   ]
  },
  {
   "cell_type": "code",
   "execution_count": 13,
   "id": "43501f9c-f1c5-4acb-99ef-1b92774847c9",
   "metadata": {},
   "outputs": [
    {
     "name": "stdin",
     "output_type": "stream",
     "text": [
      "titik x1:  15\n",
      "titik y1:  25\n",
      "titik x2:  30\n",
      "titik y2:  46\n"
     ]
    },
    {
     "name": "stdout",
     "output_type": "stream",
     "text": [
      "8.48528137423857\n"
     ]
    }
   ],
   "source": [
    "import math\n",
    "\n",
    "x1 = int(input(\"titik x1: \"))\n",
    "y1 = int(input(\"titik y1: \"))\n",
    "x2 = int(input(\"titik x2: \"))\n",
    "y2 = int(input(\"titik y2: \"))\n",
    "\n",
    "d = math.sqrt((((x2-x1))*2) + ((y2-y1)*2))\n",
    "print(d)"
   ]
  },
  {
   "cell_type": "code",
   "execution_count": 15,
   "id": "bc5d5761-1195-41ed-9efb-4051021802ad",
   "metadata": {},
   "outputs": [
    {
     "name": "stdin",
     "output_type": "stream",
     "text": [
      "Masukkan nilai x: 50\n"
     ]
    },
    {
     "name": "stdout",
     "output_type": "stream",
     "text": [
      "Nilai f(x) untuk x=50 adalah 250100.3\n"
     ]
    }
   ],
   "source": [
    "x=int(input(\"Masukkan nilai x:\"))\n",
    "\n",
    "#Menghitung nilai fungsi f(x)\n",
    "f_x=(2*x**3+2*x+(15/x))\n",
    "\n",
    "print(f\"Nilai f(x) untuk x={x} adalah {f_x}\")"
   ]
  },
  {
   "cell_type": "code",
   "execution_count": null,
   "id": "0ca07b39-9981-46c5-a838-627501d37d72",
   "metadata": {},
   "outputs": [],
   "source": []
  }
 ],
 "metadata": {
  "kernelspec": {
   "display_name": "Python 3 (ipykernel)",
   "language": "python",
   "name": "python3"
  },
  "language_info": {
   "codemirror_mode": {
    "name": "ipython",
    "version": 3
   },
   "file_extension": ".py",
   "mimetype": "text/x-python",
   "name": "python",
   "nbconvert_exporter": "python",
   "pygments_lexer": "ipython3",
   "version": "3.12.4"
  }
 },
 "nbformat": 4,
 "nbformat_minor": 5
}
