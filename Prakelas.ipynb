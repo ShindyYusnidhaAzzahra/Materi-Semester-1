{
 "cells": [
  {
   "cell_type": "code",
   "execution_count": 21,
   "id": "fdb7e5b3-5a5c-4b95-b41e-ca7e4d9404c2",
   "metadata": {},
   "outputs": [
    {
     "name": "stdin",
     "output_type": "stream",
     "text": [
      "masukkan total pembelian:  1300000\n"
     ]
    },
    {
     "name": "stdout",
     "output_type": "stream",
     "text": [
      "Diskon yang diterima: 130000.0\n",
      "Total setelah diskon: 1170000.0\n"
     ]
    }
   ],
   "source": [
    "total_pembelian = float(input(\"masukkan total pembelian: \"))\n",
    "\n",
    "if total_pembelian > 1000000:\n",
    "    diskon = total_pembelian * 0.1\n",
    "elif total_pembelian >= 500000:\n",
    "    diskon = total_pembelian * 0.05\n",
    "elif total_pembelian < 500000:\n",
    "    diskon = total_pembelian * 0\n",
    "    \n",
    "total_setelah_diskon = total_pembelian - diskon\n",
    "\n",
    "print(\"Diskon yang diterima: \" + str(diskon))\n",
    "print(\"Total setelah diskon: \" + str(total_setelah_diskon))"
   ]
  },
  {
   "cell_type": "code",
   "execution_count": null,
   "id": "c14e8141-7ba2-45dd-adde-281d88aa6eb4",
   "metadata": {},
   "outputs": [],
   "source": []
  }
 ],
 "metadata": {
  "kernelspec": {
   "display_name": "Python 3 (ipykernel)",
   "language": "python",
   "name": "python3"
  },
  "language_info": {
   "codemirror_mode": {
    "name": "ipython",
    "version": 3
   },
   "file_extension": ".py",
   "mimetype": "text/x-python",
   "name": "python",
   "nbconvert_exporter": "python",
   "pygments_lexer": "ipython3",
   "version": "3.12.4"
  }
 },
 "nbformat": 4,
 "nbformat_minor": 5
}
