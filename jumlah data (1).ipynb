{
 "cells": [
  {
   "cell_type": "code",
   "execution_count": 3,
   "id": "1bf76b9b-7eb2-46a8-a75a-f53ff28d43fe",
   "metadata": {},
   "outputs": [
    {
     "name": "stdin",
     "output_type": "stream",
     "text": [
      "jumlah data : 5\n",
      "data:  10\n",
      "data:  20\n",
      "data:  30\n",
      "data:  40\n",
      "data:  50\n"
     ]
    },
    {
     "name": "stdout",
     "output_type": "stream",
     "text": [
      "Nilai terbesar: 50\n",
      "Nilai terkecil: 10\n",
      "Variansi: 250.0\n"
     ]
    }
   ],
   "source": [
    "n = int(input(\"jumlah data :\"))\n",
    "data = [int(input(\"data: \")) for _ in range(n)]\n",
    "\n",
    "jumlah = 0\n",
    "for j in data:\n",
    "    jumlah += j\n",
    "\n",
    "rata_rata = jumlah / n\n",
    "variansi = sum((x - rata_rata)**2 for x in data) / (n - 1)\n",
    "print('Nilai terbesar:', max(data))\n",
    "print('Nilai terkecil:', min(data))\n",
    "print('Variansi:', variansi)"
   ]
  },
  {
   "cell_type": "code",
   "execution_count": 3,
   "id": "05f34891-e4fc-4f28-ac71-fc25351d0841",
   "metadata": {},
   "outputs": [
    {
     "name": "stdin",
     "output_type": "stream",
     "text": [
      "jumlah data : 3\n",
      "data:  10\n",
      "data:  15\n",
      "data:  30\n"
     ]
    },
    {
     "name": "stdout",
     "output_type": "stream",
     "text": [
      "Nilai terbesar: 30\n",
      "Nilai terkecil: 10\n"
     ]
    },
    {
     "ename": "NameError",
     "evalue": "name 'vaiansi' is not defined",
     "output_type": "error",
     "traceback": [
      "\u001b[1;31m---------------------------------------------------------------------------\u001b[0m",
      "\u001b[1;31mNameError\u001b[0m                                 Traceback (most recent call last)",
      "Cell \u001b[1;32mIn[3], line 12\u001b[0m\n\u001b[0;32m     10\u001b[0m \u001b[38;5;28mprint\u001b[39m(\u001b[38;5;124m'\u001b[39m\u001b[38;5;124mNilai terbesar:\u001b[39m\u001b[38;5;124m'\u001b[39m, \u001b[38;5;28mmax\u001b[39m(data))\n\u001b[0;32m     11\u001b[0m \u001b[38;5;28mprint\u001b[39m(\u001b[38;5;124m'\u001b[39m\u001b[38;5;124mNilai terkecil:\u001b[39m\u001b[38;5;124m'\u001b[39m, \u001b[38;5;28mmin\u001b[39m(data))\n\u001b[1;32m---> 12\u001b[0m \u001b[38;5;28mprint\u001b[39m(\u001b[38;5;124m'\u001b[39m\u001b[38;5;124mVariansi:\u001b[39m\u001b[38;5;124m'\u001b[39m, vaiansi)\n",
      "\u001b[1;31mNameError\u001b[0m: name 'vaiansi' is not defined"
     ]
    }
   ],
   "source": [
    "n = int(input(\"jumlah data :\"))\n",
    "data = [int(input(\"data: \")) for _ in range(n)]\n",
    "\n",
    "jumlah = 0\n",
    "for j in data:\n",
    "    jumlah += j\n",
    "\n",
    "rata_rata = jumlah / n\n",
    "variansi = sum((x - rata_rata)**2 for x in data) / (n - 1)\n",
    "print('Nilai terbesar:', max(data))\n",
    "print('Nilai terkecil:', min(data))\n",
    "print('Variansi:', vaiansi)"
   ]
  },
  {
   "cell_type": "code",
   "execution_count": null,
   "id": "ada8537b-d05e-4178-af64-0bf6644efc27",
   "metadata": {},
   "outputs": [],
   "source": []
  }
 ],
 "metadata": {
  "kernelspec": {
   "display_name": "Python 3 (ipykernel)",
   "language": "python",
   "name": "python3"
  },
  "language_info": {
   "codemirror_mode": {
    "name": "ipython",
    "version": 3
   },
   "file_extension": ".py",
   "mimetype": "text/x-python",
   "name": "python",
   "nbconvert_exporter": "python",
   "pygments_lexer": "ipython3",
   "version": "3.12.4"
  }
 },
 "nbformat": 4,
 "nbformat_minor": 5
}
