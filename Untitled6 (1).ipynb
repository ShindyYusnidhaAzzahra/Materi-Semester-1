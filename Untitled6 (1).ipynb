{
 "cells": [
  {
   "cell_type": "code",
   "execution_count": 15,
   "id": "ebf7d986-b3cc-4120-a5c8-63fb04d6344c",
   "metadata": {},
   "outputs": [
    {
     "name": "stdin",
     "output_type": "stream",
     "text": [
      "masukkan angka:  55\n"
     ]
    },
    {
     "name": "stdout",
     "output_type": "stream",
     "text": [
      "Bilangan Ganjil\n",
      "terimakasih\n"
     ]
    }
   ],
   "source": [
    "bilangan = int(input(\"masukkan angka: \"))\n",
    "if bilangan /2 == 0:\n",
    "    print(\"Bilangan Genap\")\n",
    "elif bilangan %2 == 1:\n",
    "    print(\"Bilangan Ganjil\")   \n",
    "elif bilangan /5 == 0:\n",
    "    print(\"Bilangan kelipatan 5\")\n",
    "print(\"terimakasih\")"
   ]
  },
  {
   "cell_type": "code",
   "execution_count": null,
   "id": "eda02af0-8b5e-4f7d-891f-26bc78668bb1",
   "metadata": {},
   "outputs": [],
   "source": [
    "nilai = int(input(\"nilai \"))\n",
    "if nilai >=90:\n",
    "    print(\"grade A\")\n",
    "elif nilai >=80:\n",
    "    print(\"grade B+\")\n",
    "\n"
   ]
  },
  {
   "cell_type": "code",
   "execution_count": 37,
   "id": "ae86c349-0b55-4fb3-b82b-eeb4eb98ca41",
   "metadata": {
    "scrolled": true
   },
   "outputs": [
    {
     "ename": "IndentationError",
     "evalue": "unexpected indent (2329000485.py, line 4)",
     "output_type": "error",
     "traceback": [
      "\u001b[1;36m  Cell \u001b[1;32mIn[37], line 4\u001b[1;36m\u001b[0m\n\u001b[1;33m    if role == \"member\":\u001b[0m\n\u001b[1;37m    ^\u001b[0m\n\u001b[1;31mIndentationError\u001b[0m\u001b[1;31m:\u001b[0m unexpected indent\n"
     ]
    }
   ],
   "source": [
    "usia >= 10 and tinggi >= 110\n",
    "diskon = float(input(\"Masukkan presentase diskon: \"))\n",
    "member == true or pembelian >500000\n",
    "    if role == \"member\":\n",
    "    print(\"Anda sebagai member.\")\n",
    "else:"
   ]
  },
  {
   "cell_type": "code",
   "execution_count": 41,
   "id": "b4bbdb87-76d4-4296-aa0f-924163cd008e",
   "metadata": {},
   "outputs": [
    {
     "name": "stdin",
     "output_type": "stream",
     "text": [
      "berapa usiamu?:  18\n",
      "berapa tinggimu?:  160\n",
      "Apakah anda member? :  ya\n",
      "Total Pembelian :  250000\n"
     ]
    },
    {
     "name": "stdout",
     "output_type": "stream",
     "text": [
      "selamat anda bisa menikmati wahana\n"
     ]
    }
   ],
   "source": [
    "usia = int(input(\"berapa usiamu?: \"))\n",
    "tinggi = int(input(\"berapa tinggimu?: \"))\n",
    "\n",
    "if usia >= 10 and tinggi >= 110:\n",
    "    member = bool(input(\"Apakah anda member? : \"))\n",
    "    pembelian = int(input(\"Total Pembelian : \"))\n",
    "    if member == True or pembelian > 500000 :\n",
    "        print(\"selamat anda bisa menikmati wahana\")"
   ]
  },
  {
   "cell_type": "code",
   "execution_count": 39,
   "id": "47ec9f9a-96f8-4c5c-89a7-cbdd265d867c",
   "metadata": {},
   "outputs": [
    {
     "name": "stdin",
     "output_type": "stream",
     "text": [
      "Masukkan nilai:  70\n",
      "Presentase kehadiran:  75\n"
     ]
    }
   ],
   "source": [
    "nilai = int(input(\"Masukkan nilai: \"))\n",
    "kehadiran = int(input(\"Presentase kehadiran: \"))\n",
    "if nilai >= 80:\n",
    "    if kehadiran > 90:\n",
    "        print(\"Sangat memuaskan\")\n",
    "    elif kehadiran > 75 and kehadiran ==  75:\n",
    "        print(\"Masukkan\")\n",
    "    if kehadiran < 75:\n",
    "        print(\"Cukup\")"
   ]
  },
  {
   "cell_type": "code",
   "execution_count": 49,
   "id": "9cf9c86c-b4c2-491b-a9c1-7a1faac5f420",
   "metadata": {},
   "outputs": [
    {
     "name": "stdin",
     "output_type": "stream",
     "text": [
      "Masukkan jumlah baris:  5\n"
     ]
    },
    {
     "name": "stdout",
     "output_type": "stream",
     "text": [
      "1  \n",
      "2  2  \n",
      "3  3  3  \n",
      "4  4  4  4  \n",
      "5  5  5  5  5  \n"
     ]
    }
   ],
   "source": [
    "baris = int(input(\"Masukkan jumlah baris: \"))\n",
    "n = 5\n",
    "for i in range(1, n+1):\n",
    "    for j in range(1, i + 1):\n",
    "        print(i,' ',end=\"\")\n",
    "    print()"
   ]
  },
  {
   "cell_type": "code",
   "execution_count": null,
   "id": "613ef025-4c9a-4a18-a2d7-b53b038876fc",
   "metadata": {},
   "outputs": [],
   "source": []
  }
 ],
 "metadata": {
  "kernelspec": {
   "display_name": "Python 3 (ipykernel)",
   "language": "python",
   "name": "python3"
  },
  "language_info": {
   "codemirror_mode": {
    "name": "ipython",
    "version": 3
   },
   "file_extension": ".py",
   "mimetype": "text/x-python",
   "name": "python",
   "nbconvert_exporter": "python",
   "pygments_lexer": "ipython3",
   "version": "3.12.4"
  }
 },
 "nbformat": 4,
 "nbformat_minor": 5
}
