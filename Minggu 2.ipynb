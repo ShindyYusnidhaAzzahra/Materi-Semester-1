{
 "cells": [
  {
   "cell_type": "code",
   "execution_count": 4,
   "id": "d3a07466-0d8c-44e4-b5f2-911b371170c9",
   "metadata": {},
   "outputs": [
    {
     "name": "stdin",
     "output_type": "stream",
     "text": [
      "panjang alas segitiga:  15\n",
      "tinggi segitiga:  30\n"
     ]
    },
    {
     "name": "stdout",
     "output_type": "stream",
     "text": [
      "Luas segitiga adalah:  225.0\n"
     ]
    }
   ],
   "source": [
    "alas=float(input(\"panjang alas segitiga: \"))\n",
    "tinggi=float(input(\"tinggi segitiga: \"))\n",
    "\n",
    "luas=0.5*alas*tinggi\n",
    "\n",
    "print(\"Luas segitiga adalah: \", luas)"
   ]
  },
  {
   "cell_type": "code",
   "execution_count": 6,
   "id": "c7f62754-af58-4dca-bd78-ac822fb9079b",
   "metadata": {},
   "outputs": [
    {
     "name": "stdin",
     "output_type": "stream",
     "text": [
      "angka pertama:  10\n",
      "angka kedua:  20\n"
     ]
    },
    {
     "name": "stdout",
     "output_type": "stream",
     "text": [
      "hasil penjumlahan:  30\n"
     ]
    }
   ],
   "source": [
    "a=int(input(\"angka pertama: \"))\n",
    "b=int(input(\"angka kedua: \"))\n",
    "\n",
    "c=a+b\n",
    "\n",
    "print(\"hasil penjumlahan: \", c)"
   ]
  },
  {
   "cell_type": "code",
   "execution_count": 8,
   "id": "cad00973-9dc1-425e-b43f-3734b44247a2",
   "metadata": {},
   "outputs": [
    {
     "name": "stdin",
     "output_type": "stream",
     "text": [
      "suhu dalam celcius:  25\n"
     ]
    },
    {
     "name": "stdout",
     "output_type": "stream",
     "text": [
      "suhu dalam farenheit:  77.0\n"
     ]
    }
   ],
   "source": [
    "celcius=float(input(\"suhu dalam celcius: \"))\n",
    "\n",
    "farenheit=(celcius*9/5)+32\n",
    "\n",
    "print(\"suhu dalam farenheit: \", farenheit)"
   ]
  },
  {
   "cell_type": "code",
   "execution_count": 10,
   "id": "a71a2dfe-f2e2-4c79-a429-37e0b14fb56e",
   "metadata": {},
   "outputs": [
    {
     "name": "stdin",
     "output_type": "stream",
     "text": [
      "masukkan nilai a:  40\n",
      "masukkan nilai b:  75\n",
      "masukkan nilai c:  30\n"
     ]
    },
    {
     "name": "stdout",
     "output_type": "stream",
     "text": [
      "rata-rata dari 3 bilangan bulat tersebut adalah x=26.666666666666668\n"
     ]
    }
   ],
   "source": [
    "a=int(input(\"masukkan nilai a: \"))\n",
    "a=int(input(\"masukkan nilai b: \"))\n",
    "a=int(input(\"masukkan nilai c: \"))\n",
    "\n",
    "x=(a+b+c)/3\n",
    "\n",
    "print(f\"rata-rata dari 3 bilangan bulat tersebut adalah x={x}\")"
   ]
  },
  {
   "cell_type": "code",
   "execution_count": 12,
   "id": "beb0f0f2-4ea5-4c7e-a062-688443ce9c0e",
   "metadata": {},
   "outputs": [
    {
     "name": "stdin",
     "output_type": "stream",
     "text": [
      "panjang sisi persegi:  20\n"
     ]
    },
    {
     "name": "stdout",
     "output_type": "stream",
     "text": [
      "luas persegi adalah:  400.0\n",
      "keliling persegi adalah:  80.0\n"
     ]
    }
   ],
   "source": [
    "sisi=float(input(\"panjang sisi persegi: \"))\n",
    "\n",
    "luas=sisi*sisi\n",
    "keliling=4*sisi\n",
    "\n",
    "print(\"luas persegi adalah: \", luas)\n",
    "print(\"keliling persegi adalah: \", keliling)"
   ]
  },
  {
   "cell_type": "code",
   "execution_count": null,
   "id": "ba663330-8a84-4f60-b6ff-c09d273cec23",
   "metadata": {},
   "outputs": [],
   "source": []
  }
 ],
 "metadata": {
  "kernelspec": {
   "display_name": "Python 3 (ipykernel)",
   "language": "python",
   "name": "python3"
  },
  "language_info": {
   "codemirror_mode": {
    "name": "ipython",
    "version": 3
   },
   "file_extension": ".py",
   "mimetype": "text/x-python",
   "name": "python",
   "nbconvert_exporter": "python",
   "pygments_lexer": "ipython3",
   "version": "3.12.4"
  }
 },
 "nbformat": 4,
 "nbformat_minor": 5
}
