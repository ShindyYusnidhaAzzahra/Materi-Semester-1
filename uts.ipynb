{
 "cells": [
  {
   "cell_type": "code",
   "execution_count": 11,
   "id": "51cc401f-4103-4d41-a66d-ccedaab8ecea",
   "metadata": {},
   "outputs": [
    {
     "name": "stdout",
     "output_type": "stream",
     "text": [
      "Total uang saku yang diberikan dalam satu minggu adalah $115\n"
     ]
    }
   ],
   "source": [
    "# Daftar usia anak-anak\n",
    "usia_anak = [8, 12, 9, 16, 14, 16, 4, 10]\n",
    "\n",
    "total_uang_saku = 0\n",
    "\n",
    "for usia in usia_anak:\n",
    "    if usia < 10:\n",
    "        total_uang_saku += 10 # Anak di bawah 10 tahun mendapat $10\n",
    "    elif usia <= 15:\n",
    "        total_uang_saku += 15 # Anak antara 10 hingga 15 tahun mendapat $15\n",
    "    else:\n",
    "        total_uang_saku += 20 #Anak di atas 15 tahun mendapat $20\n",
    "\n",
    "print(f\"Total uang saku yang diberikan dalam satu minggu adalah ${total_uang_saku}\")"
   ]
  },
  {
   "cell_type": "code",
   "execution_count": 13,
   "id": "8373cd98-be97-4b8e-87db-50ca0ecd3b56",
   "metadata": {},
   "outputs": [
    {
     "name": "stdout",
     "output_type": "stream",
     "text": [
      "0 \n",
      "1 2 \n",
      "2 3 4 \n",
      "3 4 5 6 \n"
     ]
    }
   ],
   "source": [
    "n = 4\n",
    "for i in range(n):\n",
    "    for j in range(i+1):\n",
    "        print(i+j,end=\" \")\n",
    "    print()"
   ]
  },
  {
   "cell_type": "code",
   "execution_count": 15,
   "id": "5a2bf4fa-826a-4b58-83ec-e2f826a24e3e",
   "metadata": {},
   "outputs": [
    {
     "name": "stdout",
     "output_type": "stream",
     "text": [
      "50 25 12 6 3 "
     ]
    }
   ],
   "source": [
    "x=50\n",
    "while x>1:\n",
    "    print(x, end=\" \")\n",
    "    x//=2"
   ]
  },
  {
   "cell_type": "code",
   "execution_count": 1,
   "id": "3f417f2c-16ea-42c2-9bba-596ed5b2283d",
   "metadata": {},
   "outputs": [
    {
     "name": "stdout",
     "output_type": "stream",
     "text": [
      "Siswa 1: Predikat \"Sangat Baik\"\n",
      "Siswa 2: Predikat \"Baik\"\n",
      "Siswa 3: Predikat \"Kurang\"\n",
      "Siswa 4: Predikat \"Cukup\"\n",
      "Siswa 5: Predikat \"Sangat Baik\"\n",
      "Siswa 6: Predikat \"Baik\"\n",
      "Siswa 7: Predikat \"Kurang\"\n",
      "Siswa 8: Predikat \"Cukup\"\n",
      "Siswa 9: Predikat \"Sangat Baik\"\n",
      "Siswa 10: Predikat \"Sangat Baik\"\n"
     ]
    }
   ],
   "source": [
    "nilai_siswa = [85, 76, 54, 62, 90, 73, 45, 68, 88, 80]\n",
    "siswa_ke = 0\n",
    "\n",
    "for n in nilai_siswa:\n",
    "    siswa_ke += 1\n",
    "    if n >= 80:\n",
    "        print(f'Siswa {siswa_ke}: Predikat \"Sangat Baik\"')\n",
    "    elif n >= 70 and n <= 79:\n",
    "        print(f'Siswa {siswa_ke}: Predikat \"Baik\"')\n",
    "    elif n >= 60 and n <= 69:\n",
    "        print(f'Siswa {siswa_ke}: Predikat \"Cukup\"')\n",
    "    else:\n",
    "        print(f'Siswa {siswa_ke}: Predikat \"Kurang\"')"
   ]
  },
  {
   "cell_type": "code",
   "execution_count": null,
   "id": "6a6f9f6e-3522-4897-b8e1-4baf86a95d8d",
   "metadata": {},
   "outputs": [],
   "source": []
  }
 ],
 "metadata": {
  "kernelspec": {
   "display_name": "Python 3 (ipykernel)",
   "language": "python",
   "name": "python3"
  },
  "language_info": {
   "codemirror_mode": {
    "name": "ipython",
    "version": 3
   },
   "file_extension": ".py",
   "mimetype": "text/x-python",
   "name": "python",
   "nbconvert_exporter": "python",
   "pygments_lexer": "ipython3",
   "version": "3.12.4"
  }
 },
 "nbformat": 4,
 "nbformat_minor": 5
}
